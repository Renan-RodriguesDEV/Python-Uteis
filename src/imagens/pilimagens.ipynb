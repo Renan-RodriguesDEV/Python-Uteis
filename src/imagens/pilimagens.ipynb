{
 "cells": [
  {
   "cell_type": "code",
   "execution_count": null,
   "metadata": {},
   "outputs": [],
   "source": [
    "# !pip install pillow"
   ]
  },
  {
   "cell_type": "code",
   "execution_count": null,
   "metadata": {},
   "outputs": [],
   "source": [
    "from PIL import Image\n",
    "\n",
    "# Abrir a imagem\n",
    "imagem = Image.open(\n",
    "    r\"C:\\Users\\renan\\OneDrive\\Documentos\\Python Scripts\\imagens\\batman.jpg\"\n",
    ")\n",
    "\n",
    "# Converter para escala de cinza'\n",
    "imagem_gray = imagem.convert(\"L\")\n",
    "\n",
    "# Salvar a imagem em escala de cinza\n",
    "imagem_gray.save(\"imagem_gray.png\")\n",
    "\n",
    "# Fechar a imagem original\n",
    "imagem.close()"
   ]
  },
  {
   "cell_type": "code",
   "execution_count": null,
   "metadata": {},
   "outputs": [],
   "source": [
    "import time\n",
    "from pyautogui import press\n",
    "from selenium import webdriver\n",
    "from webdriver_manager.microsoft import EdgeChromiumDriverManager\n",
    "\n",
    "# Configuração do WebDriver do Microsoft Edge\n",
    "driver = webdriver.Edge(EdgeChromiumDriverManager().install())\n",
    "\n",
    "#  Abrindo uma página da web\n",
    "driver.get(\"https://web.whatsapp.com/\")\n",
    "\n",
    "\n",
    "# Exemplo de uso: Obter o título da página\n",
    "print(driver.title)\n",
    "\n",
    "driver.find_element(By.XPATH, '//*[@id=\"identifierId\"]').send_keys(\"renanrodrigues7110\")\n",
    "driver.find_element(By.XPATH, '//*[@id=\"identifierNext\"]/div/button/span').click()\n",
    "driver.find_element(\n",
    "    By.XPATH, '//*[@id=\"side\"]/div[1]/div/div[2]/div[2]/div/div[1]/p'\n",
    ").click()\n",
    "driver.find_element(\n",
    "    By.XPATH, '//*[@id=\"side\"]/div[1]/div/div[2]/div[2]/div/div[1]/p'\n",
    ").send_keys(\"renan filho\")\n",
    "press(\"enter\")\n",
    "driver.find_element(\n",
    "    By.XPATH, '//*[@id=\"main\"]/footer/div[1]/div/span[2]/div/div[2]/div[1]'\n",
    ").send_keys(\"Ola\")\n",
    "time.sleep(10)\n",
    "# Fechar o navegador\n",
    "driver.quit()"
   ]
  },
  {
   "cell_type": "code",
   "execution_count": null,
   "metadata": {},
   "outputs": [],
   "source": []
  }
 ],
 "metadata": {
  "kernelspec": {
   "display_name": "virtual_conda",
   "language": "python",
   "name": "python3"
  },
  "language_info": {
   "codemirror_mode": {
    "name": "ipython",
    "version": 3
   },
   "file_extension": ".py",
   "mimetype": "text/x-python",
   "name": "python",
   "nbconvert_exporter": "python",
   "pygments_lexer": "ipython3",
   "version": "3.6.13"
  }
 },
 "nbformat": 4,
 "nbformat_minor": 2
}
