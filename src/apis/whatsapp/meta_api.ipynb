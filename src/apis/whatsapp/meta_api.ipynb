{
 "cells": [
  {
   "cell_type": "code",
   "execution_count": 24,
   "metadata": {},
   "outputs": [
    {
     "name": "stdout",
     "output_type": "stream",
     "text": [
      "EAAc1HPWvDmMBOxcsQOV84VxwOuT5bQlZB8KU3N1Q8xTJl4gx82ZBKpie2d4FxuPPG07Vu27B5E6vTFVlbhHFeUz2ikYkfTYE6aZBNXYcfPgFXYmjlNA0pSCXOsv6EIlHJia6uN9ngaZA2MCVI5WRqsjYi4JEKtos94mDd11N9m7zu5tWCKXc2WEfmGHzMgddladt7hUczpUZD\n"
     ]
    }
   ],
   "source": [
    "from dotenv import load_dotenv\n",
    "import os\n",
    "\n",
    "load_dotenv()\n",
    "TOKEN_META = os.getenv(\"TOKEN_META\")\n",
    "print(TOKEN_META)"
   ]
  },
  {
   "cell_type": "code",
   "execution_count": null,
   "metadata": {},
   "outputs": [
    {
     "name": "stdout",
     "output_type": "stream",
     "text": [
      "Mensagem enviada com sucesso!\n",
      "Mensagem: {'messaging_product': 'whatsapp', 'contacts': [{'input': '5519998722472', 'wa_id': '5519998722472'}], 'messages': [{'id': 'wamid.HBgNNTUxOTk5ODcyMjQ3MhUCABEYEjA0QUNGQzhGQzNCQkM3NTk2OAA=', 'message_status': 'accepted'}]}\n"
     ]
    }
   ],
   "source": [
    "import requests\n",
    "import json\n",
    "\n",
    "# Configurações\n",
    "\n",
    "phone_number_id = \"385364571321840\"\n",
    "recipient = \"5519998722472\"\n",
    "template_name = \"relatorio_class\"\n",
    "language_code = \"pt_BR\"\n",
    "\n",
    "url = f\"https://graph.facebook.com/v17.0/{phone_number_id}/messages\"\n",
    "headers = {\"Authorization\": f\"Bearer {TOKEN_META}\", \"Content-Type\": \"application/json\"}\n",
    "\n",
    "# Parâmetros dinâmicos para o template\n",
    "variables_header = [\n",
    "    {\"type\": \"text\", \"text\": \"30/01/2025\"}  # Parâmetro do header ({{1}})\n",
    "]\n",
    "\n",
    "variables_body = [\n",
    "    {\"type\": \"text\", \"text\": \"compra\"},  # Parâmetro do body ({{2}})\n",
    "    {\"type\": \"text\", \"text\": \"https://www.vjbots.com.br\"},  # Parâmetro do body ({{3}})\n",
    "]\n",
    "\n",
    "# Corpo da requisição\n",
    "payload = {\n",
    "    \"messaging_product\": \"whatsapp\",\n",
    "    \"to\": recipient,\n",
    "    \"type\": \"template\",\n",
    "    \"template\": {\n",
    "        \"name\": template_name,\n",
    "        \"language\": {\"code\": language_code},\n",
    "        \"components\": [\n",
    "            {\"type\": \"header\", \"parameters\": variables_header},\n",
    "            {\"type\": \"body\", \"parameters\": variables_body},\n",
    "        ],\n",
    "    },\n",
    "}\n",
    "\n",
    "# Enviar a mensagem\n",
    "response = requests.post(url, headers=headers, data=json.dumps(payload))\n",
    "\n",
    "# Verificar resposta\n",
    "if response.status_code == 200:\n",
    "    print(\"Mensagem enviada com sucesso!\")\n",
    "    print(f\"Mensagem: {response.json()}\")\n",
    "else:\n",
    "    print(f\"Erro {response.status_code}: {response.text}\")"
   ]
  },
  {
   "cell_type": "code",
   "execution_count": null,
   "metadata": {},
   "outputs": [
    {
     "name": "stdout",
     "output_type": "stream",
     "text": [
      "Mensagem enviada com sucesso!\n",
      "Resposta: {'messaging_product': 'whatsapp', 'contacts': [{'input': '5519998722472', 'wa_id': '5519998722472'}], 'messages': [{'id': 'wamid.HBgNNTUxOTk5ODcyMjQ3MhUCABEYEjQ4NzAwQjkzQzBGOEIyNUYxNwA=', 'message_status': 'accepted'}]}\n"
     ]
    }
   ],
   "source": [
    "import requests\n",
    "import json\n",
    "\n",
    "# Configurações\n",
    "TOKEN_META = \"EAAc1HPWvDmMBOxcsQOV84VxwOuT5bQlZB8KU3N1Q8xTJl4gx82ZBKpie2d4FxuPPG07Vu27B5E6vTFVlbhHFeUz2ikYkfTYE6aZBNXYcfPgFXYmjlNA0pSCXOsv6EIlHJia6uN9ngaZA2MCVI5WRqsjYi4JEKtos94mDd11N9m7zu5tWCKXc2WEfmGHzMgddladt7hUczpUZD\"\n",
    "PHONE_NUMBER_ID = \"385364571321840\"\n",
    "RECIPIENT = \"5519998722472\"\n",
    "\n",
    "# URL da API\n",
    "url = f\"https://graph.facebook.com/v21.0/{PHONE_NUMBER_ID}/messages\"\n",
    "\n",
    "# Headers\n",
    "headers = {\"Authorization\": f\"Bearer {TOKEN_META}\", \"Content-Type\": \"application/json\"}\n",
    "\n",
    "# Payload\n",
    "payload = {\n",
    "    \"messaging_product\": \"whatsapp\",\n",
    "    \"to\": RECIPIENT,\n",
    "    \"type\": \"template\",\n",
    "    \"template\": {\"name\": \"hello_world\", \"language\": {\"code\": \"en_US\"}},\n",
    "}\n",
    "\n",
    "# Fazer a requisição POST\n",
    "response = requests.post(url, headers=headers, data=json.dumps(payload))\n",
    "\n",
    "# Verificar a resposta\n",
    "if response.status_code == 200:\n",
    "    print(\"Mensagem enviada com sucesso!\")\n",
    "    print(f\"Resposta: {response.json()}\")\n",
    "else:\n",
    "    print(f\"Erro {response.status_code}: {response.text}\")"
   ]
  },
  {
   "cell_type": "code",
   "execution_count": 6,
   "metadata": {},
   "outputs": [
    {
     "name": "stdout",
     "output_type": "stream",
     "text": [
      "Mensagem enviada com sucesso!\n",
      "Resposta: {'messaging_product': 'whatsapp', 'contacts': [{'input': '5519998722472', 'wa_id': '5519998722472'}], 'messages': [{'id': 'wamid.HBgNNTUxOTk5ODcyMjQ3MhUCABEYEkI1ODEwNjhEMzkyRjFGMEUyNAA='}]}\n"
     ]
    }
   ],
   "source": [
    "import requests\n",
    "import json\n",
    "\n",
    "# Configurações\n",
    "TOKEN_META = \"EAAc1HPWvDmMBOxcsQOV84VxwOuT5bQlZB8KU3N1Q8xTJl4gx82ZBKpie2d4FxuPPG07Vu27B5E6vTFVlbhHFeUz2ikYkfTYE6aZBNXYcfPgFXYmjlNA0pSCXOsv6EIlHJia6uN9ngaZA2MCVI5WRqsjYi4JEKtos94mDd11N9m7zu5tWCKXc2WEfmGHzMgddladt7hUczpUZD\"\n",
    "PHONE_NUMBER_ID = \"385364571321840\"\n",
    "RECIPIENT = \"5519998722472\"\n",
    "\n",
    "# URL da API\n",
    "url = f\"https://graph.facebook.com/v21.0/{PHONE_NUMBER_ID}/messages\"\n",
    "\n",
    "# Headers\n",
    "headers = {\"Authorization\": f\"Bearer {TOKEN_META}\", \"Content-Type\": \"application/json\"}\n",
    "\n",
    "# Payload para mensagem de texto\n",
    "payload = {\n",
    "    \"messaging_product\": \"whatsapp\",\n",
    "    \"recipient_type\": \"individual\",\n",
    "    \"to\": RECIPIENT,\n",
    "    \"type\": \"text\",\n",
    "    \"text\": {\n",
    "        \"preview_url\": False,\n",
    "        \"body\": \"Olá! Esta é uma mensagem de teste enviada via API do WhatsApp.\",\n",
    "    },\n",
    "}\n",
    "\n",
    "# Fazer a requisição POST\n",
    "response = requests.post(url, headers=headers, data=json.dumps(payload))\n",
    "\n",
    "# Verificar a resposta\n",
    "if response.status_code == 200:\n",
    "    print(\"Mensagem enviada com sucesso!\")\n",
    "    print(f\"Resposta: {response.json()}\")\n",
    "else:\n",
    "    print(f\"Erro {response.status_code}: {response.text}\")"
   ]
  },
  {
   "cell_type": "code",
   "execution_count": 7,
   "metadata": {},
   "outputs": [
    {
     "name": "stdout",
     "output_type": "stream",
     "text": [
      "Erro 404: {\"error\":{\"message\":\"(#132001) Template name does not exist in the translation\",\"type\":\"OAuthException\",\"code\":132001,\"error_data\":{\"messaging_product\":\"whatsapp\",\"details\":\"template name (status_of_classifier) does not exist in pt_BR\"},\"fbtrace_id\":\"AF841B-jDUhdV553PsG6YfX\"}}\n"
     ]
    }
   ],
   "source": [
    "import requests\n",
    "import json\n",
    "\n",
    "# Configurações\n",
    "TOKEN_META = \"EAAc1HPWvDmMBOxcsQOV84VxwOuT5bQlZB8KU3N1Q8xTJl4gx82ZBKpie2d4FxuPPG07Vu27B5E6vTFVlbhHFeUz2ikYkfTYE6aZBNXYcfPgFXYmjlNA0pSCXOsv6EIlHJia6uN9ngaZA2MCVI5WRqsjYi4JEKtos94mDd11N9m7zu5tWCKXc2WEfmGHzMgddladt7hUczpUZD\"\n",
    "PHONE_NUMBER_ID = \"385364571321840\"\n",
    "RECIPIENT = \"5519998722472\"\n",
    "\n",
    "# URL da API\n",
    "url = f\"https://graph.facebook.com/v21.0/{PHONE_NUMBER_ID}/messages\"\n",
    "\n",
    "# Headers\n",
    "headers = {\"Authorization\": f\"Bearer {TOKEN_META}\", \"Content-Type\": \"application/json\"}\n",
    "\n",
    "# Variáveis para o template\n",
    "variables_header = [\n",
    "    {\"type\": \"text\", \"text\": \"VJBOTS\"}  # Variável do header {{1}}\n",
    "]\n",
    "\n",
    "variables_body = [\n",
    "    {\"type\": \"text\", \"text\": \"Consepcion Group\"},  # Variável do body {{1}}\n",
    "    {\"type\": \"text\", \"text\": \"12/02/2025\"},  # Variável do body {{2}}\n",
    "    {\"type\": \"text\", \"text\": \"Robo de classificação\"},  # Variável do body {{3}}\n",
    "]\n",
    "\n",
    "# Payload com template\n",
    "payload = {\n",
    "    \"messaging_product\": \"whatsapp\",\n",
    "    \"to\": RECIPIENT,\n",
    "    \"type\": \"template\",\n",
    "    \"template\": {\n",
    "        \"name\": \"status_of_classifier\",\n",
    "        \"language\": {\"code\": \"pt_BR\"},\n",
    "        \"components\": [\n",
    "            {\"type\": \"header\", \"parameters\": variables_header},\n",
    "            {\"type\": \"body\", \"parameters\": variables_body},\n",
    "        ],\n",
    "    },\n",
    "}\n",
    "\n",
    "# Fazer a requisição POST\n",
    "response = requests.post(url, headers=headers, data=json.dumps(payload))\n",
    "\n",
    "# Verificar a resposta\n",
    "if response.status_code == 200:\n",
    "    print(\"Mensagem enviada com sucesso!\")\n",
    "    print(f\"Resposta: {response.json()}\")\n",
    "else:\n",
    "    print(f\"Erro {response.status_code}: {response.text}\")"
   ]
  }
 ],
 "metadata": {
  "kernelspec": {
   "display_name": "base",
   "language": "python",
   "name": "python3"
  },
  "language_info": {
   "codemirror_mode": {
    "name": "ipython",
    "version": 3
   },
   "file_extension": ".py",
   "mimetype": "text/x-python",
   "name": "python",
   "nbconvert_exporter": "python",
   "pygments_lexer": "ipython3",
   "version": "3.12.7"
  }
 },
 "nbformat": 4,
 "nbformat_minor": 2
}
