{
 "cells": [
  {
   "cell_type": "code",
   "execution_count": null,
   "id": "83be55f4",
   "metadata": {},
   "outputs": [],
   "source": [
    "# !pip install pyautogui selenim webdriver-manager"
   ]
  },
  {
   "cell_type": "code",
   "execution_count": 32,
   "id": "60256ba3",
   "metadata": {},
   "outputs": [],
   "source": [
    "import selenium as sl\n",
    "import pyautogui as pt\n",
    "import time as tm\n",
    "\n",
    "from selenium import webdriver\n",
    "from webdriver_manager.chrome import ChromeDriverManager\n",
    "from selenium.webdriver.chrome.options import Options\n",
    "from selenium.webdriver.chrome.service import Service\n",
    "from selenium.webdriver.support.wait import WebDriverWait\n",
    "from selenium.webdriver.common.action_chains import ActionChains\n",
    "from selenium.webdriver.common.keys import Keys\n",
    "from selenium.webdriver.common.by import By\n",
    "\n",
    "s = Service()\n",
    "o = webdriver.ChromeOptions()\n",
    "nav = webdriver.Chrome(service=s, options=o)\n",
    "\n",
    "\n",
    "nav.get(\n",
    "    \"https://associacaoeducacional132310.rm.cloudtotvs.com.br/FrameHTML/web/app/edu/PortalEducacional/login/?redirect=arquivos\"\n",
    ")\n",
    "nav.maximize_window()\n",
    "\n",
    "\n",
    "xpath_log = '//*[@id=\"User\"]'\n",
    "xpath_pass = '//*[@id=\"Pass\"]'\n",
    "xpath_mat = '//*[@id=\"EDU_PORTAL_ACADEMICO_CENTRALALUNO_NOTAFALTAUNIFICADA\"]/span'\n",
    "xpath_aluno = '//*[@id=\"sidebar-min\"]/ul/li[6]'\n",
    "\n",
    "nav.find_element(By.XPATH, xpath_log).send_keys(\"060207\")\n",
    "nav.find_element(By.XPATH, xpath_pass).send_keys(\"20022005\")\n",
    "pt.press(\"enter\")\n",
    "nav.implicitly_wait(8)\n",
    "\n",
    "aluno = nav.find_element(By.XPATH, xpath_aluno)\n",
    "\n",
    "\n",
    "actions = ActionChains(nav)\n",
    "actions.double_click(aluno).perform()\n",
    "\n",
    "while (\n",
    "    len(\n",
    "        nav.find_elements(By.ID, \"EDU_PORTAL_ACADEMICO_CENTRALALUNO_NOTAFALTAUNIFICADA\")\n",
    "    )\n",
    "    < 1\n",
    "):\n",
    "    tm.sleep(1)\n",
    "nav.find_element(By.XPATH, xpath_mat).click()\n",
    "\n",
    "\n",
    "tm.sleep(5)\n",
    "nav.quit()"
   ]
  }
 ],
 "metadata": {
  "kernelspec": {
   "display_name": "Python 3 (ipykernel)",
   "language": "python",
   "name": "python3"
  },
  "language_info": {
   "codemirror_mode": {
    "name": "ipython",
    "version": 3
   },
   "file_extension": ".py",
   "mimetype": "text/x-python",
   "name": "python",
   "nbconvert_exporter": "python",
   "pygments_lexer": "ipython3",
   "version": "3.11.8"
  }
 },
 "nbformat": 4,
 "nbformat_minor": 5
}
