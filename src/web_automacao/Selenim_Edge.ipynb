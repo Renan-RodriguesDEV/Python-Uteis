{
 "cells": [
  {
   "cell_type": "code",
   "execution_count": 5,
   "metadata": {},
   "outputs": [],
   "source": [
    "from selenium import webdriver\n",
    "from selenium.webdriver.common.by import By\n",
    "import time\n",
    "import pyautogui as pg\n",
    "\n",
    "from selenium.webdriver.edge.service import Service\n",
    "\n",
    "service = Service(verbose=True)\n",
    "options = webdriver.EdgeOptions()\n",
    "options.add_argument(\"--headless=new\")  # abrindo no modo headless(segundo plano)\n",
    "\n",
    "driver = webdriver.Edge(service=service, options=options)"
   ]
  },
  {
   "cell_type": "code",
   "execution_count": 45,
   "metadata": {},
   "outputs": [],
   "source": [
    "browser = webdriver.Edge()\n",
    "browser.maximize_window()\n",
    "\n",
    "\n",
    "browser.get(\n",
    "    \"https://associacaoeducacional132310.rm.cloudtotvs.com.br/FrameHTML/web/app/edu/PortalEducacional/login/\"\n",
    ")\n",
    "browser.find_element(By.XPATH, '//*[@id=\"User\"]').send_keys(\"060207\")\n",
    "time.sleep(2)\n",
    "browser.find_element(By.XPATH, '//*[@id=\"Pass\"]').send_keys(\"20022005\")\n",
    "browser.find_element(By.XPATH, \"/html/body/div[2]/div[3]/form/div[4]/input\").click()\n",
    "\n",
    "\n",
    "time.sleep(7)\n",
    "browser.find_element(By.XPATH, '//*[@id=\"sidebar-min\"]/ul/li[9]/span[1]/span').click()\n",
    "time.sleep(3)\n",
    "pg.click(x=571, y=485)\n",
    "\n",
    "browser.quit()"
   ]
  },
  {
   "cell_type": "code",
   "execution_count": 41,
   "metadata": {},
   "outputs": [
    {
     "name": "stdout",
     "output_type": "stream",
     "text": [
      "Point(x=571, y=485)\n"
     ]
    }
   ],
   "source": [
    "import pyautogui as pg\n",
    "import time\n",
    "\n",
    "time.sleep(5)\n",
    "print(pg.position())"
   ]
  }
 ],
 "metadata": {
  "kernelspec": {
   "display_name": "base",
   "language": "python",
   "name": "python3"
  },
  "language_info": {
   "codemirror_mode": {
    "name": "ipython",
    "version": 3
   },
   "file_extension": ".py",
   "mimetype": "text/x-python",
   "name": "python",
   "nbconvert_exporter": "python",
   "pygments_lexer": "ipython3",
   "version": "3.11.5"
  }
 },
 "nbformat": 4,
 "nbformat_minor": 2
}
