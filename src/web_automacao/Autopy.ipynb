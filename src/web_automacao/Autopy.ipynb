{
 "cells": [
  {
   "cell_type": "code",
   "execution_count": 1,
   "metadata": {},
   "outputs": [],
   "source": [
    "# importando a automoçao\n",
    "import pyautogui as pg\n",
    "import time\n",
    "\n",
    "pg.hotkey(\"win\", \"r\")\n",
    "time.sleep(1)\n",
    "pg.write(\"opera\")\n",
    "pg.press(\"enter\")\n",
    "time.sleep(1)\n",
    "pg.write(\"https://web.whatsapp.com\")\n",
    "ctrlv = \"\"\n",
    "pg.write\n",
    "time.sleep(1)\n",
    "pg.press(\"enter\")\n",
    "time.sleep(10)\n",
    "pg.hotkey(\"alt\", \"f4\")"
   ]
  },
  {
   "cell_type": "code",
   "execution_count": 5,
   "metadata": {},
   "outputs": [
    {
     "name": "stdout",
     "output_type": "stream",
     "text": [
      "Point(x=673, y=387)\n"
     ]
    }
   ],
   "source": [
    "# pegando posicao do rato\n",
    "import pyautogui\n",
    "import time\n",
    "\n",
    "time.sleep(5)\n",
    "print(pyautogui.position())"
   ]
  }
 ],
 "metadata": {
  "kernelspec": {
   "display_name": "base",
   "language": "python",
   "name": "python3"
  },
  "language_info": {
   "codemirror_mode": {
    "name": "ipython",
    "version": 3
   },
   "file_extension": ".py",
   "mimetype": "text/x-python",
   "name": "python",
   "nbconvert_exporter": "python",
   "pygments_lexer": "ipython3",
   "version": "3.11.5"
  }
 },
 "nbformat": 4,
 "nbformat_minor": 2
}
